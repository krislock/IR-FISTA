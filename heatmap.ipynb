{
 "cells": [
  {
   "cell_type": "code",
   "execution_count": null,
   "metadata": {},
   "outputs": [],
   "source": [
    "using DelimitedFiles\n",
    "using Plots\n",
    "using LaTeXStrings\n",
    "using Printf"
   ]
  },
  {
   "cell_type": "code",
   "execution_count": null,
   "metadata": {},
   "outputs": [],
   "source": [
    "IAPGfgcalls = reshape(readdlm(\"IAPGfgcalls.txt\", Int), (10,10))"
   ]
  },
  {
   "cell_type": "code",
   "execution_count": null,
   "metadata": {},
   "outputs": [],
   "source": [
    "IRfgcalls = reshape(readdlm(\"IRfgcalls.txt\", Int), (10,10))"
   ]
  },
  {
   "cell_type": "code",
   "execution_count": null,
   "metadata": {},
   "outputs": [],
   "source": [
    "X = IAPGfgcalls - IRfgcalls"
   ]
  },
  {
   "cell_type": "code",
   "execution_count": null,
   "metadata": {},
   "outputs": [],
   "source": [
    "extrema(X)"
   ]
  },
  {
   "cell_type": "code",
   "execution_count": null,
   "metadata": {},
   "outputs": [],
   "source": [
    "ns = [string(n) for n=600:100:1500]\n",
    "γs = [@sprintf(\"%.2f\", γ) for γ=0.01:0.01:0.1]\n",
    "plt = heatmap(ns, γs, IAPGfgcalls - IRfgcalls, \n",
    "    size=(900,600),\n",
    "    #aspect_ratio=1.0,\n",
    "    xlabel=L\"n\",\n",
    "    ylabel=L\"\\gamma\",\n",
    "    title=\"Reduction in function evaluations\",\n",
    "    c=:redsblues,\n",
    "    #c=:cyclic3,\n",
    "    #c=:diff,\n",
    "    #c=:delta,\n",
    "    clims=(-1500, 1500),\n",
    "    #c=cgrad([:white, :black]),\n",
    ")"
   ]
  },
  {
   "cell_type": "code",
   "execution_count": null,
   "metadata": {},
   "outputs": [],
   "source": [
    "savefig(plt, \"figs/heatmap.png\")"
   ]
  },
  {
   "cell_type": "code",
   "execution_count": null,
   "metadata": {},
   "outputs": [],
   "source": [
    "clibraries()"
   ]
  },
  {
   "cell_type": "code",
   "execution_count": null,
   "metadata": {},
   "outputs": [],
   "source": [
    "for colorlib in clibraries()\n",
    "    println(colorlib)\n",
    "    display(showlibrary(colorlib))\n",
    "end"
   ]
  }
 ],
 "metadata": {
  "kernelspec": {
   "display_name": "Julia 1.3.1",
   "language": "julia",
   "name": "julia-1.3"
  },
  "language_info": {
   "file_extension": ".jl",
   "mimetype": "application/julia",
   "name": "julia",
   "version": "1.3.1"
  }
 },
 "nbformat": 4,
 "nbformat_minor": 4
}
