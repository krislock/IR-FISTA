{
 "cells": [
  {
   "cell_type": "code",
   "execution_count": null,
   "metadata": {},
   "outputs": [],
   "source": [
    "using DelimitedFiles\n",
    "using Plots\n",
    "using LaTeXStrings\n",
    "using Printf"
   ]
  },
  {
   "cell_type": "code",
   "execution_count": null,
   "metadata": {},
   "outputs": [],
   "source": [
    "using Dates"
   ]
  },
  {
   "cell_type": "code",
   "execution_count": null,
   "metadata": {},
   "outputs": [],
   "source": [
    "function time2str(t)\n",
    "    ms = Millisecond(round(1000 * t))\n",
    "    dt = convert(DateTime, ms)\n",
    "    tt = convert(Time, dt)\n",
    "    return string(tt)\n",
    "end"
   ]
  },
  {
   "cell_type": "markdown",
   "metadata": {},
   "source": [
    "---\n",
    "# CSV"
   ]
  },
  {
   "cell_type": "code",
   "execution_count": null,
   "metadata": {},
   "outputs": [],
   "source": [
    "using CSV"
   ]
  },
  {
   "cell_type": "code",
   "execution_count": null,
   "metadata": {},
   "outputs": [],
   "source": [
    "df = CSV.read(\"results.txt\", delim=\" \", ignorerepeated=true)"
   ]
  },
  {
   "cell_type": "code",
   "execution_count": null,
   "metadata": {},
   "outputs": [],
   "source": [
    "df[df.method.==\"IAPG\",[:n, :γ, :k, :fgs, :time]]"
   ]
  },
  {
   "cell_type": "markdown",
   "metadata": {},
   "source": [
    "---\n",
    "# DataFrames"
   ]
  },
  {
   "cell_type": "code",
   "execution_count": null,
   "metadata": {},
   "outputs": [],
   "source": [
    "using DataFrames"
   ]
  },
  {
   "cell_type": "code",
   "execution_count": null,
   "metadata": {},
   "outputs": [],
   "source": [
    "time2str(sum(df.time))"
   ]
  },
  {
   "cell_type": "code",
   "execution_count": null,
   "metadata": {},
   "outputs": [],
   "source": [
    "describe(df)"
   ]
  },
  {
   "cell_type": "code",
   "execution_count": null,
   "metadata": {},
   "outputs": [],
   "source": [
    "dfgroupbymethod = groupby(df, :method);"
   ]
  },
  {
   "cell_type": "code",
   "execution_count": null,
   "metadata": {},
   "outputs": [],
   "source": [
    "for i in eachindex(dfgroupbymethod)\n",
    "    display(i.method)\n",
    "    display(unstack(dfgroupbymethod[i], :n, :γ, :fgs))\n",
    "end"
   ]
  },
  {
   "cell_type": "markdown",
   "metadata": {},
   "source": [
    "---\n",
    "# NamedArrays"
   ]
  },
  {
   "cell_type": "code",
   "execution_count": null,
   "metadata": {},
   "outputs": [],
   "source": [
    "using NamedArrays"
   ]
  },
  {
   "cell_type": "code",
   "execution_count": null,
   "metadata": {},
   "outputs": [],
   "source": [
    "ns = collect(100:100:800)\n",
    "γs = collect(0.1:0.1:1.0)\n",
    "\n",
    "for i in eachindex(dfgroupbymethod)\n",
    "    println(i.method)\n",
    "    A = Array{Int}(unstack(dfgroupbymethod[i], :n, :γ, :fgs))\n",
    "    N = NamedArray(A[:,2:end], (ns, γs), (\"n\", \"γ\"))\n",
    "    println(N)\n",
    "    println()\n",
    "end"
   ]
  },
  {
   "cell_type": "markdown",
   "metadata": {},
   "source": [
    "---\n",
    "# heatmap"
   ]
  },
  {
   "cell_type": "code",
   "execution_count": null,
   "metadata": {},
   "outputs": [],
   "source": [
    "function myunstack(dfgrouped, method, category)\n",
    "    ns = collect(100:100:800)\n",
    "    γs = collect(0.1:0.1:1.0)\n",
    "    df = dfgroupbymethod[(method=method,)]\n",
    "    T = eltype(getproperty(df, category))\n",
    "    A = Array{T}(unstack(df, :n, :γ, category))\n",
    "    return NamedArray(A[:,2:end], (ns, γs), (\"n\", \"γ\"))\n",
    "end"
   ]
  },
  {
   "cell_type": "code",
   "execution_count": null,
   "metadata": {},
   "outputs": [],
   "source": [
    "IAPGfgcalls = myunstack(dfgroupbymethod, \"IAPG\", :fgs)"
   ]
  },
  {
   "cell_type": "code",
   "execution_count": null,
   "metadata": {},
   "outputs": [],
   "source": [
    "IRfgcalls = myunstack(dfgroupbymethod, \"IR\", :fgs)"
   ]
  },
  {
   "cell_type": "code",
   "execution_count": null,
   "metadata": {},
   "outputs": [],
   "source": [
    "IERfgcalls = myunstack(dfgroupbymethod, \"IER\", :fgs)"
   ]
  },
  {
   "cell_type": "code",
   "execution_count": null,
   "metadata": {},
   "outputs": [],
   "source": [
    "X = IAPGfgcalls - IERfgcalls"
   ]
  },
  {
   "cell_type": "code",
   "execution_count": null,
   "metadata": {},
   "outputs": [],
   "source": [
    "extrema(X)"
   ]
  },
  {
   "cell_type": "code",
   "execution_count": null,
   "metadata": {},
   "outputs": [],
   "source": [
    "ns = [string(n) for n=100:100:800]\n",
    "γs = [@sprintf(\"%.1f\", γ) for γ=0.1:0.1:1.0]\n",
    "plt = heatmap(ns, γs, IAPGfgcalls - IERfgcalls, \n",
    "    size=(800, 600),\n",
    "    #aspect_ratio=1.0,\n",
    "    xlabel=L\"n\",\n",
    "    ylabel=L\"\\gamma\",\n",
    "    title=\"Reduction in function evaluations (IER v. IAPG)\",\n",
    "    c=:RdBu,\n",
    "    clims=(-12000, 12000),\n",
    ")"
   ]
  },
  {
   "cell_type": "code",
   "execution_count": null,
   "metadata": {},
   "outputs": [],
   "source": [
    "savefig(plt, \"figs/heatmap.png\")"
   ]
  },
  {
   "cell_type": "code",
   "execution_count": null,
   "metadata": {},
   "outputs": [],
   "source": [
    "clibraries()"
   ]
  },
  {
   "cell_type": "code",
   "execution_count": null,
   "metadata": {},
   "outputs": [],
   "source": [
    "showlibrary(:colorbrewer)"
   ]
  },
  {
   "cell_type": "code",
   "execution_count": null,
   "metadata": {},
   "outputs": [],
   "source": [
    "for colorlib in clibraries()\n",
    "    println(colorlib)\n",
    "    display(showlibrary(colorlib))\n",
    "end"
   ]
  },
  {
   "cell_type": "markdown",
   "metadata": {},
   "source": [
    "---\n",
    "# BenchmarkProfiles"
   ]
  },
  {
   "cell_type": "code",
   "execution_count": null,
   "metadata": {},
   "outputs": [],
   "source": [
    "using BenchmarkProfiles"
   ]
  },
  {
   "cell_type": "code",
   "execution_count": null,
   "metadata": {},
   "outputs": [],
   "source": [
    "category = :fgs\n",
    "IAPG = myunstack(dfgroupbymethod, \"IAPG\", category)\n",
    "IR = myunstack(dfgroupbymethod, \"IR\", category)\n",
    "IER = myunstack(dfgroupbymethod, \"IER\", category)"
   ]
  },
  {
   "cell_type": "code",
   "execution_count": null,
   "metadata": {},
   "outputs": [],
   "source": [
    "T = [IAPG.array[:] IER.array[:] IR.array[:]]\n",
    "solvernames = [\"IAPG\", \"IER\", \"IR\"]\n",
    "\n",
    "plt = performance_profile(T, solvernames, logscale=false, \n",
    "    size=(800, 600),\n",
    "    legend=:bottomright, \n",
    "    style=:auto,\n",
    "    linecolor=:black)\n",
    "savefig(plt, \"figs/performance_profile.pdf\")\n",
    "plt"
   ]
  },
  {
   "cell_type": "code",
   "execution_count": null,
   "metadata": {},
   "outputs": [],
   "source": [
    "T = [IAPG.array[:] IER.array[:]]\n",
    "solvernames = [\"IAPG\", \"IER\"]\n",
    "\n",
    "plt = performance_profile(T, solvernames, logscale=false, \n",
    "    size=(800, 600),\n",
    "    legend=:bottomright, \n",
    "    style=:auto,\n",
    "    linecolor=:black)\n",
    "savefig(plt, \"figs/performance_profile2.pdf\")\n",
    "plt"
   ]
  },
  {
   "cell_type": "code",
   "execution_count": null,
   "metadata": {},
   "outputs": [],
   "source": []
  },
  {
   "cell_type": "code",
   "execution_count": null,
   "metadata": {},
   "outputs": [],
   "source": []
  }
 ],
 "metadata": {
  "kernelspec": {
   "display_name": "Julia 1.4.0",
   "language": "julia",
   "name": "julia-1.4"
  },
  "language_info": {
   "file_extension": ".jl",
   "mimetype": "application/julia",
   "name": "julia",
   "version": "1.4.0"
  }
 },
 "nbformat": 4,
 "nbformat_minor": 4
}
