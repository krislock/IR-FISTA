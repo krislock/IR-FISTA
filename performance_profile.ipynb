{
 "cells": [
  {
   "cell_type": "code",
   "execution_count": null,
   "metadata": {},
   "outputs": [],
   "source": [
    "using DelimitedFiles\n",
    "using Plots\n",
    "using LaTeXStrings\n",
    "using Printf"
   ]
  },
  {
   "cell_type": "code",
   "execution_count": null,
   "metadata": {},
   "outputs": [],
   "source": [
    "using Dates"
   ]
  },
  {
   "cell_type": "code",
   "execution_count": null,
   "metadata": {},
   "outputs": [],
   "source": [
    "function time2str(t)\n",
    "    ms = Millisecond(round(1000 * t))\n",
    "    dt = convert(DateTime, ms)\n",
    "    tt = convert(Time, dt)\n",
    "    return string(tt)\n",
    "end"
   ]
  },
  {
   "cell_type": "markdown",
   "metadata": {},
   "source": [
    "---\n",
    "# CSV"
   ]
  },
  {
   "cell_type": "code",
   "execution_count": null,
   "metadata": {},
   "outputs": [],
   "source": [
    "using CSV"
   ]
  },
  {
   "cell_type": "code",
   "execution_count": null,
   "metadata": {},
   "outputs": [],
   "source": [
    "df = CSV.read(\"results.txt\", delim=\" \", ignorerepeated=true)"
   ]
  },
  {
   "cell_type": "code",
   "execution_count": null,
   "metadata": {},
   "outputs": [],
   "source": [
    "df[df.method.==\"IAPG\",[:n, :γ, :k, :fgs, :time]]"
   ]
  },
  {
   "cell_type": "markdown",
   "metadata": {},
   "source": [
    "---\n",
    "# DataFrames"
   ]
  },
  {
   "cell_type": "code",
   "execution_count": null,
   "metadata": {},
   "outputs": [],
   "source": [
    "using DataFrames"
   ]
  },
  {
   "cell_type": "code",
   "execution_count": null,
   "metadata": {},
   "outputs": [],
   "source": [
    "time2str(sum(df.time))"
   ]
  },
  {
   "cell_type": "code",
   "execution_count": null,
   "metadata": {},
   "outputs": [],
   "source": [
    "describe(df)"
   ]
  },
  {
   "cell_type": "code",
   "execution_count": null,
   "metadata": {},
   "outputs": [],
   "source": [
    "dfgroupbymethod = groupby(df, :method);"
   ]
  },
  {
   "cell_type": "code",
   "execution_count": null,
   "metadata": {},
   "outputs": [],
   "source": [
    "for i in eachindex(dfgroupbymethod)\n",
    "    display(i.method)\n",
    "    display(unstack(dfgroupbymethod[i], :n, :γ, :fgs))\n",
    "end"
   ]
  },
  {
   "cell_type": "markdown",
   "metadata": {},
   "source": [
    "---\n",
    "# NamedArrays"
   ]
  },
  {
   "cell_type": "code",
   "execution_count": null,
   "metadata": {},
   "outputs": [],
   "source": [
    "using NamedArrays"
   ]
  },
  {
   "cell_type": "code",
   "execution_count": null,
   "metadata": {},
   "outputs": [],
   "source": [
    "ns = collect(100:100:800)\n",
    "γs = collect(0.1:0.1:1.0)\n",
    "\n",
    "for i in eachindex(dfgroupbymethod)\n",
    "    println(i.method)\n",
    "    A = Array{Int}(unstack(dfgroupbymethod[i], :n, :γ, :fgs))\n",
    "    N = NamedArray(A[:,2:end], (ns, γs), (\"n\", \"γ\"))\n",
    "    println(N)\n",
    "    println()\n",
    "end"
   ]
  },
  {
   "cell_type": "markdown",
   "metadata": {},
   "source": [
    "---\n",
    "# heatmap"
   ]
  },
  {
   "cell_type": "code",
   "execution_count": null,
   "metadata": {},
   "outputs": [],
   "source": [
    "A = Array{Int}(unstack(dfgroupbymethod[(method=\"IAPG\",)], :n, :γ, :fgs))\n",
    "IAPGfgcalls = NamedArray(A[:,2:end], (ns, γs), (\"n\", \"γ\"))"
   ]
  },
  {
   "cell_type": "code",
   "execution_count": null,
   "metadata": {},
   "outputs": [],
   "source": [
    "A = Array{Int}(unstack(dfgroupbymethod[(method=\"IR\",)], :n, :γ, :fgs))\n",
    "IRfgcalls = NamedArray(A[:,2:end], (ns, γs), (\"n\", \"γ\"))"
   ]
  },
  {
   "cell_type": "code",
   "execution_count": null,
   "metadata": {},
   "outputs": [],
   "source": [
    "A = Array{Int}(unstack(dfgroupbymethod[(method=\"IER\",)], :n, :γ, :fgs))\n",
    "IERfgcalls = NamedArray(A[:,2:end], (ns, γs), (\"n\", \"γ\"))"
   ]
  },
  {
   "cell_type": "code",
   "execution_count": null,
   "metadata": {},
   "outputs": [],
   "source": [
    "X = IAPGfgcalls - IERfgcalls"
   ]
  },
  {
   "cell_type": "code",
   "execution_count": null,
   "metadata": {},
   "outputs": [],
   "source": [
    "extrema(X)"
   ]
  },
  {
   "cell_type": "code",
   "execution_count": null,
   "metadata": {},
   "outputs": [],
   "source": [
    "ns = [string(n) for n=100:100:800]\n",
    "γs = [@sprintf(\"%.1f\", γ) for γ=0.1:0.1:1.0]\n",
    "plt = heatmap(ns, γs, IAPGfgcalls - IERfgcalls, \n",
    "    size=(800, 600),\n",
    "    #aspect_ratio=1.0,\n",
    "    xlabel=L\"n\",\n",
    "    ylabel=L\"\\gamma\",\n",
    "    title=\"Reduction in function evaluations (IER v. IAPG)\",\n",
    "    c=:RdBu,\n",
    "    clims=(-400, 400),\n",
    ")"
   ]
  },
  {
   "cell_type": "code",
   "execution_count": null,
   "metadata": {},
   "outputs": [],
   "source": [
    "savefig(plt, \"figs/heatmap.png\")"
   ]
  },
  {
   "cell_type": "code",
   "execution_count": null,
   "metadata": {},
   "outputs": [],
   "source": [
    "clibraries()"
   ]
  },
  {
   "cell_type": "code",
   "execution_count": null,
   "metadata": {},
   "outputs": [],
   "source": [
    "showlibrary(:colorbrewer)"
   ]
  },
  {
   "cell_type": "code",
   "execution_count": null,
   "metadata": {},
   "outputs": [],
   "source": [
    "for colorlib in clibraries()\n",
    "    println(colorlib)\n",
    "    display(showlibrary(colorlib))\n",
    "end"
   ]
  },
  {
   "cell_type": "markdown",
   "metadata": {},
   "source": [
    "---\n",
    "# BenchmarkProfiles"
   ]
  },
  {
   "cell_type": "code",
   "execution_count": null,
   "metadata": {},
   "outputs": [],
   "source": [
    "using BenchmarkProfiles"
   ]
  },
  {
   "cell_type": "code",
   "execution_count": null,
   "metadata": {},
   "outputs": [],
   "source": [
    "T = [IAPGfgcalls.array[:] IRfgcalls.array[:] IERfgcalls.array[:]]\n",
    "solvernames = [\"IAPG\", \"IR\", \"IER\"]\n",
    "\n",
    "plt = performance_profile(T, solvernames, logscale=false, \n",
    "    size=(800, 600),\n",
    "    legend=:bottomright, \n",
    "    style=:auto,\n",
    "    linecolor=:black)"
   ]
  },
  {
   "cell_type": "code",
   "execution_count": null,
   "metadata": {},
   "outputs": [],
   "source": [
    "savefig(plt, \"figs/performance_profile.pdf\")"
   ]
  },
  {
   "cell_type": "code",
   "execution_count": null,
   "metadata": {},
   "outputs": [],
   "source": [
    "T = [IAPGfgcalls.array[:] IRfgcalls.array[:]]\n",
    "IERfgcallsames = [\"IAPG\", \"IR\"]\n",
    "\n",
    "plt = performance_profile(T, solvernames, logscale=false, \n",
    "    size=(800, 600),\n",
    "    legend=:bottomright, \n",
    "    style=:auto,\n",
    "    linecolor=:black)"
   ]
  },
  {
   "cell_type": "code",
   "execution_count": null,
   "metadata": {},
   "outputs": [],
   "source": [
    "T = [IAPGfgcalls.array[:] IERfgcalls.array[:]]\n",
    "solvernames = [\"IAPG\", \"IER\"]\n",
    "\n",
    "plt = performance_profile(T, solvernames, logscale=false, \n",
    "    size=(800, 600),\n",
    "    legend=:bottomright, \n",
    "    style=:auto,\n",
    "    linecolor=:black)"
   ]
  },
  {
   "cell_type": "code",
   "execution_count": null,
   "metadata": {},
   "outputs": [],
   "source": [
    "T = [IRfgcalls.array[:] IERfgcalls.array[:]]\n",
    "solvernames = [\"IR\", \"IER\"]\n",
    "\n",
    "plt = performance_profile(T, solvernames, logscale=false, \n",
    "    size=(800, 600),\n",
    "    legend=:bottomright, \n",
    "    style=:auto,\n",
    "    linecolor=:black)"
   ]
  },
  {
   "cell_type": "code",
   "execution_count": null,
   "metadata": {},
   "outputs": [],
   "source": []
  }
 ],
 "metadata": {
  "kernelspec": {
   "display_name": "Julia 1.4.0",
   "language": "julia",
   "name": "julia-1.4"
  },
  "language_info": {
   "file_extension": ".jl",
   "mimetype": "application/julia",
   "name": "julia",
   "version": "1.4.0"
  }
 },
 "nbformat": 4,
 "nbformat_minor": 4
}
